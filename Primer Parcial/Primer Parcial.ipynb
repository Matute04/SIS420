{
 "cells": [
  {
   "cell_type": "markdown",
   "id": "a8f0b898",
   "metadata": {},
   "source": [
    "# PRIMER PARCIAL\n",
    "1. Nombre: Gutierrez Coronado Matias Ezequiel\n",
    "2. Carrera: Ingenieria de Sistemas"
   ]
  },
  {
   "cell_type": "markdown",
   "id": "7954667d",
   "metadata": {},
   "source": [
    "# Clasificación One-vs-All con Regresión Logística\n"
   ]
  },
  {
   "cell_type": "markdown",
   "id": "db3dfc3d",
   "metadata": {},
   "source": [
    "## 1. Preprocesamiento adecuado en el dataset"
   ]
  },
  {
   "cell_type": "markdown",
   "id": "8e6b014a",
   "metadata": {},
   "source": [
    "### Librerias importadas"
   ]
  },
  {
   "cell_type": "code",
   "execution_count": 1,
   "id": "aea5a839",
   "metadata": {},
   "outputs": [],
   "source": [
    "# Importamos las librerías necesarias para manipulación de datos, optimización y visualización\n",
    "import numpy as np\n",
    "from matplotlib import pyplot as plt\n",
    "from scipy import optimize\n",
    "import pandas as pd\n",
    "from sklearn.model_selection import train_test_split\n"
   ]
  },
  {
   "cell_type": "markdown",
   "id": "7277f6f1",
   "metadata": {},
   "source": [
    "### Carga y selección de características del dataset"
   ]
  },
  {
   "cell_type": "code",
   "execution_count": 2,
   "id": "ab37876f",
   "metadata": {},
   "outputs": [],
   "source": [
    "# Cargamos el dataset y seleccionamos las características de entrada y la etiqueta (Quartil)\n",
    "dataset_path = 'economicdata_2002-2022.csv'\n",
    "data = pd.read_csv(dataset_path)\n",
    "X = data[['Economic Freedom Summary Index', 'Size of Government', \n",
    "                'Legal Sys & Prop. Rights', 'Sound Money', \n",
    "                'Freedom to trade internationally', 'Regulation']].values\n",
    "y = data['Quartile'].values \n",
    "num_labels = 4\n",
    "m = y.size"
   ]
  },
  {
   "cell_type": "markdown",
   "id": "f07abd49",
   "metadata": {},
   "source": [
    "## 2. Normalización de las caracteristicas\n"
   ]
  },
  {
   "cell_type": "code",
   "execution_count": 3,
   "id": "d052163f",
   "metadata": {},
   "outputs": [],
   "source": [
    "def featureNormalize(X):\n",
    "    X_norm = X.copy()\n",
    "    mu = np.mean(X, axis=0)\n",
    "    sigma = np.std(X, axis=0)\n",
    "    X_norm = (X - mu) / sigma\n",
    "    return X_norm, mu, sigma\n",
    "    \n",
    "# Normaliza las características X y guarda la media y desviación estándar\n",
    "X_norm, mu, sigma = featureNormalize(X)\n"
   ]
  },
  {
   "cell_type": "markdown",
   "id": "3c9b96b0",
   "metadata": {},
   "source": [
    "## 3. División del dataset en entrenamiento y prueba"
   ]
  },
  {
   "cell_type": "code",
   "execution_count": 4,
   "id": "855b630b",
   "metadata": {},
   "outputs": [],
   "source": [
    "# Dividimos el dataset en conjuntos de entrenamiento (80%) y prueba (20%) para evaluar el modelo\n",
    "X_train, X_test, y_train, y_test = train_test_split(X_norm, y, test_size=0.2, random_state=42)"
   ]
  },
  {
   "cell_type": "markdown",
   "id": "3ff8a3fe",
   "metadata": {},
   "source": [
    "## 4. Definición e implementación del modelo\n"
   ]
  },
  {
   "cell_type": "code",
   "execution_count": 5,
   "id": "781ca883",
   "metadata": {},
   "outputs": [],
   "source": [
    "# Función sigmoide: Convierte cualquier valor z en un valor entre 0 y 1\n",
    "def sigmoid(z):\n",
    "    return 1 / (1 + np.exp(-z))  \n",
    "\n"
   ]
  },
  {
   "cell_type": "code",
   "execution_count": 6,
   "id": "7622835e",
   "metadata": {},
   "outputs": [],
   "source": [
    "# Función de costo y gradiente para la regresión logística con regularización (One-vs-All)\n",
    "def lrCostFunction(theta, X, y, lambda_, cost_history=None):\n",
    "    m = y.size\n",
    "    if y.dtype == bool:\n",
    "        y = y.astype(int)\n",
    "    J = 0\n",
    "    grad = np.zeros(theta.shape)\n",
    "    h = sigmoid(X.dot(theta.T))\n",
    "\n",
    "    temp = theta\n",
    "    temp[0] = 0\n",
    "\n",
    "    J = (1 / m) * np.sum(-y.dot(np.log(h)) - (1 - y).dot(np.log(1 - h))) + (lambda_ / (2 * m)) * np.sum(np.square(temp))\n",
    "\n",
    "    grad = (1 / m) * (h - y).dot(X)\n",
    "    grad = grad + (lambda_ / m) * temp\n",
    "\n",
    "    if cost_history is not None:\n",
    "        cost_history.append(J)\n",
    "\n",
    "    return J, grad"
   ]
  },
  {
   "cell_type": "markdown",
   "id": "9516595d",
   "metadata": {},
   "source": [
    "## 5. Definición y establecimiento de los valores óptimos de los hiperparámetros\n"
   ]
  },
  {
   "cell_type": "code",
   "execution_count": 7,
   "id": "551bc75b",
   "metadata": {},
   "outputs": [],
   "source": [
    "# Entrenamiento de un clasificador One-vs-All para cada clase\n",
    "def oneVsAll(X, y, num_labels, lambda_):\n",
    "    m, n = X.shape\n",
    "    all_theta = np.zeros((num_labels, n + 1))  # Inicializamos los parámetros para cada clase\n",
    "    X = np.concatenate([np.ones((m, 1)), X], axis=1)  # Añadimos el término de sesgo\n",
    "\n",
    "    cost_history = {}\n",
    "\n",
    "    for c in np.arange(num_labels):\n",
    "        initial_theta = np.zeros(n + 1)\n",
    "        options = {'maxiter': 100}  # Establecemos el número máximo de iteraciones para la optimización\n",
    "        cost_class_history = []\n",
    "        res = optimize.minimize(lrCostFunction,\n",
    "                                initial_theta,\n",
    "                                (X, (y == c), lambda_, cost_class_history),\n",
    "                                jac=True,\n",
    "                                method='CG',\n",
    "                                options=options)\n",
    "\n",
    "        all_theta[c] = res.x\n",
    "        cost_history[f'Clase {c}'] = cost_class_history\n",
    "\n",
    "    return all_theta, cost_history"
   ]
  },
  {
   "cell_type": "code",
   "execution_count": 8,
   "id": "dfba92dd",
   "metadata": {},
   "outputs": [
    {
     "name": "stdout",
     "output_type": "stream",
     "text": [
      "(4, 7)\n",
      "[[-10.23394272   3.88241915   2.70065904   4.55013522   2.61630785\n",
      "    3.34353905   0.96768284]\n",
      " [ -1.31227784   0.11291859   0.28945696  -1.18703262   0.65846297\n",
      "    0.40679247   0.69327059]\n",
      " [ -1.13891102  -2.47902558   0.53173607   0.43776278   0.56767413\n",
      "    0.48808215   0.56673898]\n",
      " [ -7.53063799  -2.62038371  -1.58428368  -2.7022604   -2.11949523\n",
      "   -1.9722831   -0.89166473]]\n"
     ]
    }
   ],
   "source": [
    "# Entrenamos el modelo One-vs-All con un valor de regularización lambda_ y mostramos los parámetros entrenados\n",
    "lambda_ = 0.04\n",
    "all_theta, cost_history = oneVsAll(X_train, y_train, num_labels, lambda_)\n",
    "print(all_theta.shape)\n",
    "print(all_theta)"
   ]
  },
  {
   "cell_type": "markdown",
   "id": "c7bfaa6b",
   "metadata": {},
   "source": [
    "## 6. Entrenamiento de los modelos"
   ]
  },
  {
   "cell_type": "code",
   "execution_count": 9,
   "id": "2a60f78f",
   "metadata": {},
   "outputs": [],
   "source": [
    "# Predicción One-vs-All: Realiza predicciones para cada clase utilizando los parámetros entrenados\n",
    "def predictOneVsAll(all_theta, X):\n",
    "    m = X.shape[0]\n",
    "    num_labels = all_theta.shape[0]\n",
    "    p = np.zeros(m)\n",
    "\n",
    "    X = np.concatenate([np.ones((m, 1)), X], axis=1)\n",
    "    p = np.argmax(sigmoid(X.dot(all_theta.T)), axis=1)\n",
    "\n",
    "    return p\n"
   ]
  },
  {
   "cell_type": "code",
   "execution_count": 10,
   "id": "930133df",
   "metadata": {},
   "outputs": [
    {
     "data": {
      "image/png": "[encoded data removed]",
      "text/plain": [
       "<Figure size 800x600 with 1 Axes>"
      ]
     },
     "metadata": {},
     "output_type": "display_data"
    },
    {
     "data": {
      "image/png": "[encoded data removed]",
      "text/plain": [
       "<Figure size 800x600 with 1 Axes>"
      ]
     },
     "metadata": {},
     "output_type": "display_data"
    },
    {
     "data": {
      "image/png": "[encoded data removed]",
      "text/plain": [
       "<Figure size 800x600 with 1 Axes>"
      ]
     },
     "metadata": {},
     "output_type": "display_data"
    },
    {
     "data": {
      "image/png": "[encoded data removed]",
      "text/plain": [
       "<Figure size 800x600 with 1 Axes>"
      ]
     },
     "metadata": {},
     "output_type": "display_data"
    }
   ],
   "source": [
    "# Graficamos el costo por iteración para cada quartil (clase) durante el entrenamiento\n",
    "for i in range(num_labels):  \n",
    "    num_iterations = len(cost_history[f'Clase {i}'])\n",
    "    plt.figure(figsize=(8, 6))\n",
    "    plt.plot(range(num_iterations), cost_history[f'Clase {i}'], label=f'Quartil {i+1}')\n",
    "    plt.xlabel('Iteraciones')\n",
    "    plt.ylabel('Costo')\n",
    "    plt.title(f'Costo por Iteración - Quartil {i+1}')\n",
    "    plt.legend()\n",
    "    plt.show()\n"
   ]
  },
  {
   "cell_type": "markdown",
   "id": "d4ce795f",
   "metadata": {},
   "source": [
    "## 7. Prueba de los modelos\n"
   ]
  },
  {
   "cell_type": "code",
   "execution_count": 11,
   "id": "9d30d169",
   "metadata": {},
   "outputs": [
    {
     "name": "stdout",
     "output_type": "stream",
     "text": [
      "(2531, 6)\n",
      "(633, 6)\n",
      "Precision del conjunto de entrenamiento: 81.19%\n",
      "(50, 6)\n",
      "(50, 7)\n",
      "[2 0 0 0 3 0 3 3 0 3 0 0 0 3 1 2 1 3 1 0 1 3 3 0 3 3 3 2 0 2 2 3 0 3 3 0 2\n",
      " 3 0 0 1 3 0 0 2 1 2 0 3 0]\n",
      "[2. 0. 0. 0. 3. 0. 3. 3. 0. 2. 0. 0. 0. 2. 1. 1. 1. 3. 1. 0. 0. 3. 3. 0.\n",
      " 3. 3. 3. 2. 0. 2. 2. 3. 0. 3. 3. 1. 2. 2. 0. 0. 1. 2. 0. 0. 2. 1. 2. 0.\n",
      " 3. 0.]\n"
     ]
    }
   ],
   "source": [
    "# Realizamos predicciones sobre los conjuntos de entrenamiento y prueba, y mostramos la precisión\n",
    "\n",
    "print(X_train.shape)\n",
    "print(X_test.shape)\n",
    "pred_train = predictOneVsAll(all_theta, X_train)\n",
    "print('Precision del conjunto de entrenamiento: {:.2f}%'.format(np.mean(pred_train == y_train) * 100))\n",
    "\n",
    "XPrueba = X_test[100:150, :].copy()\n",
    "print(XPrueba.shape)\n",
    "\n",
    "XPrueba = np.concatenate([np.ones((50, 1)), XPrueba], axis=1)\n",
    "print(XPrueba.shape)\n",
    "\n",
    "p = np.argmax(sigmoid(XPrueba.dot(all_theta.T)), axis=1)\n",
    "print(p)\n",
    "\n",
    "print(y_test[100:150])\n"
   ]
  },
  {
   "cell_type": "markdown",
   "id": "d99afa99",
   "metadata": {},
   "source": [
    "## 8. Interpretación de los resultados"
   ]
  },
  {
   "cell_type": "markdown",
   "id": "cc2d8c5c",
   "metadata": {},
   "source": [
    "### Interpretacion de los graficos"
   ]
  },
  {
   "cell_type": "markdown",
   "id": "f2767c97",
   "metadata": {},
   "source": [
    "Quartil 1: El costo disminuye rápidamente y luego se estabiliza, lo cual indica que el modelo está aprendiendo correctamente, pero no se logra una separación perfecta, lo que es normal en modelos One-vs-All.\n",
    "\n",
    "Quartil 2 y 3: El costo se estabiliza cerca de 0.50, lo que sugiere que el modelo tiene dificultades para diferenciar claramente estas clases. Esto puede deberse a que las características de estos quartiles son similares a las de otros.\n",
    "\n",
    "Quartil 4: El costo baja a 0.1, lo cual es una señal positiva. Un costo tan bajo muestra que el modelo tiene confianza al clasificar este quartil, lo que indica que las características son separables."
   ]
  },
  {
   "cell_type": "markdown",
   "id": "bd8a1aa0",
   "metadata": {},
   "source": [
    "### Interpretacion de la prueba del modelo"
   ]
  },
  {
   "cell_type": "markdown",
   "id": "dd04fc14",
   "metadata": {},
   "source": [
    "\n",
    "La precisión del 81.19% en el conjunto de entrenamiento es bastante buena, especialmente considerando que estamos utilizando un modelo One-vs-All para clasificación multiclase. En este enfoque, el modelo entrena un clasificador para cada clase, tratando de distinguir esa clase de las demás. Debido a esto, pueden ocurrir dificultades para separar algunas clases de manera clara, sobre todo cuando las características de las clases no son completamente diferenciables entre sí. "
   ]
  },
  {
   "cell_type": "markdown",
   "id": "7ec533c2",
   "metadata": {},
   "source": [
    "# REDES NEURONALES"
   ]
  },
  {
   "cell_type": "markdown",
   "id": "e99d1990",
   "metadata": {},
   "source": [
    "\n",
    "## 1. Preprocesamiento adecuado en el dataset"
   ]
  },
  {
   "cell_type": "markdown",
   "id": "0ab872a4",
   "metadata": {},
   "source": [
    "### Librerias importadas"
   ]
  },
  {
   "cell_type": "code",
   "execution_count": 12,
   "id": "063be7e7",
   "metadata": {},
   "outputs": [],
   "source": [
    "# Librerías principales para el modelo y visualización\n",
    "import torch\n",
    "import torch.nn as nn\n",
    "import torch.optim as optim\n",
    "import numpy as np\n",
    "import pandas as pd\n",
    "from torch.utils.data import DataLoader, TensorDataset\n",
    "from sklearn.preprocessing import StandardScaler\n",
    "import matplotlib.pyplot as plt\n"
   ]
  },
  {
   "cell_type": "markdown",
   "id": "cce1a202",
   "metadata": {},
   "source": [
    "### Carga y selección de características del dataset"
   ]
  },
  {
   "cell_type": "code",
   "execution_count": 13,
   "id": "a151a853",
   "metadata": {},
   "outputs": [],
   "source": [
    "# Cargamos el dataset y seleccionamos las características de entrada y la etiqueta (Quartil)\n",
    "dataset_path = 'economicdata_2002-2022.csv'\n",
    "data = pd.read_csv(dataset_path)\n",
    "X = data[['Economic Freedom Summary Index', 'Size of Government', \n",
    "                'Legal Sys & Prop. Rights', 'Sound Money', \n",
    "                'Freedom to trade internationally', 'Regulation']].values\n",
    "y = data['Quartile'].values "
   ]
  },
  {
   "cell_type": "markdown",
   "id": "0aca642c",
   "metadata": {},
   "source": [
    "## 2. Normalización de las caracteristicas"
   ]
  },
  {
   "cell_type": "code",
   "execution_count": 14,
   "id": "0a6809ea",
   "metadata": {},
   "outputs": [],
   "source": [
    "# Normalizamos las características con la media y desviación estándar\n",
    "scaler = StandardScaler()\n",
    "X_normalized = scaler.fit_transform(X)\n",
    "\n",
    "# Convertimos los datos normalizados a tensores\n",
    "X_tensor = torch.tensor(X_normalized, dtype=torch.float32)\n",
    "y_tensor = torch.tensor(y, dtype=torch.long)"
   ]
  },
  {
   "cell_type": "markdown",
   "id": "9d7fd88a",
   "metadata": {},
   "source": [
    "## 3. División del dataset en entrenamiento y prueba"
   ]
  },
  {
   "cell_type": "code",
   "execution_count": 15,
   "id": "53b3fe3b",
   "metadata": {},
   "outputs": [],
   "source": [
    "# Dividimos el dataset en conjuntos de entrenamiento (80%) y prueba (20%) para evaluar el modelo\n",
    "X_train, X_test, y_train, y_test = train_test_split(X_tensor, y_tensor, test_size=0.2, random_state=42)"
   ]
  },
  {
   "cell_type": "code",
   "execution_count": 16,
   "id": "c9d3b6b1",
   "metadata": {},
   "outputs": [
    {
     "name": "stdout",
     "output_type": "stream",
     "text": [
      "2531\n",
      "633\n"
     ]
    }
   ],
   "source": [
    "# Combina las entradas y etiquetas en un solo objeto TensorDataset para facilitar el manejo de datos con DataLoader\n",
    "train_data = TensorDataset(X_train, y_train)\n",
    "test_data = TensorDataset(X_test, y_test)\n",
    "print(len(train_data))\n",
    "print(len(test_data))\n"
   ]
  },
  {
   "cell_type": "markdown",
   "id": "c7e596ca",
   "metadata": {},
   "source": [
    "## 4. Definición e implementación del modelo"
   ]
  },
  {
   "cell_type": "code",
   "execution_count": 17,
   "id": "8704ad36",
   "metadata": {},
   "outputs": [],
   "source": [
    "# Red neuronal con una capa oculta\n",
    "class NeuralNetwork(nn.Module):\n",
    "    def __init__(self, input_size, num_classes):\n",
    "        super(NeuralNetwork, self).__init__()\n",
    "        self.fc1 = nn.Linear(input_size, 32)   # 1 capa oculta con 32 neuronas\n",
    "        self.output = nn.Linear(32, num_classes)  # Capa de salida (4 clases)\n",
    "\n",
    "    def forward(self, x):\n",
    "        x = torch.relu(self.fc1(x))  # ReLU como activación para la capa oculta\n",
    "        x = self.output(x)           # Capa de salida\n",
    "        return torch.softmax(x, dim=1)  # Softmax para clasificación multiclase\n",
    "\n",
    "input_size = X_train.shape[1]  \n",
    "num_classes = len(np.unique(y_train)) \n"
   ]
  },
  {
   "cell_type": "markdown",
   "id": "c2933b7a",
   "metadata": {},
   "source": [
    "## 5. Definición y establecimiento de los valores óptimos de los hiperparámetros"
   ]
  },
  {
   "cell_type": "code",
   "execution_count": 18,
   "id": "605efc43",
   "metadata": {},
   "outputs": [],
   "source": [
    "device = torch.device(\"cuda\" if torch.cuda.is_available() else \"cpu\")  # Configura GPU si está disponible\n",
    "\n",
    "# Inicializa el modelo y mueve a la GPU o CPU\n",
    "model = NeuralNetwork(input_size=input_size, num_classes=num_classes).to(device) \n",
    "\n",
    "# Configurar la función de pérdida y el optimizador\n",
    "criterion = nn.CrossEntropyLoss()  # Función de pérdida para clasificación multiclase\n",
    "optimizer = optim.Adam(model.parameters(), lr=0.001)  # Optimizador Adam\n",
    "\n",
    "# DataLoader para entrenamiento: carga en batches de 8 y mezcla los datos\n",
    "train_loader = DataLoader(train_data, batch_size=8, shuffle=True)\n",
    "# DataLoader para prueba: carga en batches de 8 sin mezclar\n",
    "test_loader = DataLoader(test_data, batch_size=8, shuffle=False)"
   ]
  },
  {
   "cell_type": "markdown",
   "id": "06fac2a1",
   "metadata": {},
   "source": [
    "## 6. Entrenamiento de los modelos"
   ]
  },
  {
   "cell_type": "code",
   "execution_count": 19,
   "id": "f44bb836",
   "metadata": {},
   "outputs": [
    {
     "name": "stdout",
     "output_type": "stream",
     "text": [
      "Epoch 1/100, Loss: 1.1940, Accuracy: 56.38%\n",
      "Epoch 2/100, Loss: 1.0267, Accuracy: 79.02%\n",
      "Epoch 3/100, Loss: 0.9552, Accuracy: 84.95%\n",
      "Epoch 4/100, Loss: 0.9204, Accuracy: 86.65%\n",
      "Epoch 5/100, Loss: 0.9017, Accuracy: 87.59%\n",
      "Epoch 6/100, Loss: 0.8909, Accuracy: 87.12%\n",
      "Epoch 7/100, Loss: 0.8847, Accuracy: 87.71%\n",
      "Epoch 8/100, Loss: 0.8796, Accuracy: 88.31%\n",
      "Epoch 9/100, Loss: 0.8756, Accuracy: 88.07%\n",
      "Epoch 10/100, Loss: 0.8730, Accuracy: 88.31%\n",
      "Epoch 11/100, Loss: 0.8709, Accuracy: 88.34%\n",
      "Epoch 12/100, Loss: 0.8695, Accuracy: 88.15%\n",
      "Epoch 13/100, Loss: 0.8679, Accuracy: 88.27%\n",
      "Epoch 14/100, Loss: 0.8668, Accuracy: 88.15%\n",
      "Epoch 15/100, Loss: 0.8659, Accuracy: 88.31%\n",
      "Epoch 16/100, Loss: 0.8652, Accuracy: 88.27%\n",
      "Epoch 17/100, Loss: 0.8636, Accuracy: 88.31%\n",
      "Epoch 18/100, Loss: 0.8631, Accuracy: 88.27%\n",
      "Epoch 19/100, Loss: 0.8627, Accuracy: 88.54%\n",
      "Epoch 20/100, Loss: 0.8619, Accuracy: 88.82%\n",
      "Epoch 21/100, Loss: 0.8629, Accuracy: 88.70%\n",
      "Epoch 22/100, Loss: 0.8611, Accuracy: 88.62%\n",
      "Epoch 23/100, Loss: 0.8613, Accuracy: 88.46%\n",
      "Epoch 24/100, Loss: 0.8600, Accuracy: 88.66%\n",
      "Epoch 25/100, Loss: 0.8595, Accuracy: 88.58%\n",
      "Epoch 26/100, Loss: 0.8590, Accuracy: 88.34%\n",
      "Epoch 27/100, Loss: 0.8592, Accuracy: 88.54%\n",
      "Epoch 28/100, Loss: 0.8585, Accuracy: 88.90%\n",
      "Epoch 29/100, Loss: 0.8580, Accuracy: 88.58%\n",
      "Epoch 30/100, Loss: 0.8581, Accuracy: 88.58%\n",
      "Epoch 31/100, Loss: 0.8581, Accuracy: 88.66%\n",
      "Epoch 32/100, Loss: 0.8577, Accuracy: 88.78%\n",
      "Epoch 33/100, Loss: 0.8569, Accuracy: 88.82%\n",
      "Epoch 34/100, Loss: 0.8570, Accuracy: 88.34%\n",
      "Epoch 35/100, Loss: 0.8561, Accuracy: 88.70%\n",
      "Epoch 36/100, Loss: 0.8553, Accuracy: 88.86%\n",
      "Epoch 37/100, Loss: 0.8568, Accuracy: 88.66%\n",
      "Epoch 38/100, Loss: 0.8555, Accuracy: 89.17%\n",
      "Epoch 39/100, Loss: 0.8558, Accuracy: 88.90%\n",
      "Epoch 40/100, Loss: 0.8545, Accuracy: 88.94%\n",
      "Epoch 41/100, Loss: 0.8548, Accuracy: 89.10%\n",
      "Epoch 42/100, Loss: 0.8549, Accuracy: 88.54%\n",
      "Epoch 43/100, Loss: 0.8535, Accuracy: 89.10%\n",
      "Epoch 44/100, Loss: 0.8541, Accuracy: 89.02%\n",
      "Epoch 45/100, Loss: 0.8538, Accuracy: 89.21%\n",
      "Epoch 46/100, Loss: 0.8533, Accuracy: 89.06%\n",
      "Epoch 47/100, Loss: 0.8534, Accuracy: 88.82%\n",
      "Epoch 48/100, Loss: 0.8530, Accuracy: 88.98%\n",
      "Epoch 49/100, Loss: 0.8531, Accuracy: 89.25%\n",
      "Epoch 50/100, Loss: 0.8522, Accuracy: 89.37%\n",
      "Epoch 51/100, Loss: 0.8523, Accuracy: 89.06%\n",
      "Epoch 52/100, Loss: 0.8529, Accuracy: 89.25%\n",
      "Epoch 53/100, Loss: 0.8523, Accuracy: 89.17%\n",
      "Epoch 54/100, Loss: 0.8526, Accuracy: 89.13%\n",
      "Epoch 55/100, Loss: 0.8512, Accuracy: 89.53%\n",
      "Epoch 56/100, Loss: 0.8514, Accuracy: 89.33%\n",
      "Epoch 57/100, Loss: 0.8514, Accuracy: 89.02%\n",
      "Epoch 58/100, Loss: 0.8512, Accuracy: 89.37%\n",
      "Epoch 59/100, Loss: 0.8508, Accuracy: 89.45%\n",
      "Epoch 60/100, Loss: 0.8503, Accuracy: 89.73%\n",
      "Epoch 61/100, Loss: 0.8503, Accuracy: 89.69%\n",
      "Epoch 62/100, Loss: 0.8503, Accuracy: 89.49%\n",
      "Epoch 63/100, Loss: 0.8503, Accuracy: 89.81%\n",
      "Epoch 64/100, Loss: 0.8492, Accuracy: 89.45%\n",
      "Epoch 65/100, Loss: 0.8499, Accuracy: 89.49%\n",
      "Epoch 66/100, Loss: 0.8495, Accuracy: 89.53%\n",
      "Epoch 67/100, Loss: 0.8491, Accuracy: 89.65%\n",
      "Epoch 68/100, Loss: 0.8488, Accuracy: 89.57%\n",
      "Epoch 69/100, Loss: 0.8494, Accuracy: 89.57%\n",
      "Epoch 70/100, Loss: 0.8486, Accuracy: 89.69%\n",
      "Epoch 71/100, Loss: 0.8483, Accuracy: 89.96%\n",
      "Epoch 72/100, Loss: 0.8483, Accuracy: 89.57%\n",
      "Epoch 73/100, Loss: 0.8486, Accuracy: 89.69%\n",
      "Epoch 74/100, Loss: 0.8476, Accuracy: 89.69%\n",
      "Epoch 75/100, Loss: 0.8477, Accuracy: 89.85%\n",
      "Epoch 76/100, Loss: 0.8486, Accuracy: 89.81%\n",
      "Epoch 77/100, Loss: 0.8477, Accuracy: 89.85%\n",
      "Epoch 78/100, Loss: 0.8467, Accuracy: 89.81%\n",
      "Epoch 79/100, Loss: 0.8481, Accuracy: 89.57%\n",
      "Epoch 80/100, Loss: 0.8471, Accuracy: 89.92%\n",
      "Epoch 81/100, Loss: 0.8464, Accuracy: 89.89%\n",
      "Epoch 82/100, Loss: 0.8475, Accuracy: 89.61%\n",
      "Epoch 83/100, Loss: 0.8474, Accuracy: 89.96%\n",
      "Epoch 84/100, Loss: 0.8464, Accuracy: 89.85%\n",
      "Epoch 85/100, Loss: 0.8460, Accuracy: 90.28%\n",
      "Epoch 86/100, Loss: 0.8466, Accuracy: 89.85%\n",
      "Epoch 87/100, Loss: 0.8458, Accuracy: 90.08%\n",
      "Epoch 88/100, Loss: 0.8460, Accuracy: 89.96%\n",
      "Epoch 89/100, Loss: 0.8464, Accuracy: 90.00%\n",
      "Epoch 90/100, Loss: 0.8464, Accuracy: 89.85%\n",
      "Epoch 91/100, Loss: 0.8454, Accuracy: 90.00%\n",
      "Epoch 92/100, Loss: 0.8459, Accuracy: 90.00%\n",
      "Epoch 93/100, Loss: 0.8460, Accuracy: 89.92%\n",
      "Epoch 94/100, Loss: 0.8458, Accuracy: 90.24%\n",
      "Epoch 95/100, Loss: 0.8447, Accuracy: 90.32%\n",
      "Epoch 96/100, Loss: 0.8453, Accuracy: 90.08%\n",
      "Epoch 97/100, Loss: 0.8452, Accuracy: 90.28%\n",
      "Epoch 98/100, Loss: 0.8447, Accuracy: 90.04%\n",
      "Epoch 99/100, Loss: 0.8445, Accuracy: 90.08%\n",
      "Epoch 100/100, Loss: 0.8453, Accuracy: 89.81%\n"
     ]
    }
   ],
   "source": [
    "# Entrenamiento de la red neuronal durante 100 épocas, calculando la pérdida y precisión en cada época\n",
    "epochs = 100\n",
    "train_loss = []\n",
    "train_accuracy = []\n",
    "\n",
    "for epoch in range(epochs):\n",
    "    model.train()\n",
    "    running_loss = 0.0\n",
    "    correct = 0\n",
    "    total = 0\n",
    "\n",
    "    for inputs, labels in train_loader:\n",
    "        inputs, labels = inputs.to(device), labels.to(device)\n",
    "\n",
    "        optimizer.zero_grad()\n",
    "\n",
    "        outputs = model(inputs)\n",
    "        loss = criterion(outputs, labels)\n",
    "\n",
    "        loss.backward()\n",
    "        optimizer.step()\n",
    "\n",
    "        running_loss += loss.item()\n",
    "        _, predicted = torch.max(outputs, 1)\n",
    "        total += labels.size(0)\n",
    "        correct += (predicted == labels).sum().item()\n",
    "\n",
    "    epoch_loss = running_loss / len(train_loader)\n",
    "    epoch_accuracy = 100 * correct / total\n",
    "    train_loss.append(epoch_loss)\n",
    "    train_accuracy.append(epoch_accuracy)\n",
    "\n",
    "    print(f\"Epoch {epoch+1}/{epochs}, Loss: {epoch_loss:.4f}, Accuracy: {epoch_accuracy:.2f}%\")\n"
   ]
  },
  {
   "cell_type": "code",
   "execution_count": 20,
   "id": "1f82bfcc",
   "metadata": {},
   "outputs": [
    {
     "data": {
      "image/png": "[encoded data removed]",
      "text/plain": [
       "<Figure size 1200x500 with 1 Axes>"
      ]
     },
     "metadata": {},
     "output_type": "display_data"
    }
   ],
   "source": [
    "# 7. Graficando la pérdida durante el entrenamiento\n",
    "plt.figure(figsize=(12, 5))\n",
    "plt.subplot(1, 2, 1)\n",
    "plt.plot(train_loss, label=\"Pérdida\")\n",
    "plt.title(\"Pérdida durante el entrenamiento\")\n",
    "plt.xlabel(\"Épocas\")\n",
    "plt.ylabel(\"Pérdida\")\n",
    "plt.legend()\n",
    "plt.show()"
   ]
  },
  {
   "cell_type": "markdown",
   "id": "1784cd1e",
   "metadata": {},
   "source": [
    "## 7. Prueba de los modelos"
   ]
  },
  {
   "cell_type": "code",
   "execution_count": 23,
   "id": "ec89ecc6",
   "metadata": {},
   "outputs": [
    {
     "name": "stdout",
     "output_type": "stream",
     "text": [
      "\n",
      "Precisión en el conjunto de prueba: 90.52%\n"
     ]
    }
   ],
   "source": [
    "# Evaluación del modelo en el conjunto de prueba y cálculo de la precisión\n",
    "model.eval()\n",
    "correct = 0\n",
    "total = 0\n",
    "predictions = []\n",
    "true_labels = []\n",
    "\n",
    "with torch.no_grad():\n",
    "    for inputs, labels in test_loader:\n",
    "        inputs, labels = inputs.to(device), labels.to(device)\n",
    "        outputs = model(inputs)\n",
    "        _, predicted = torch.max(outputs, 1)\n",
    "        \n",
    "        total += labels.size(0)\n",
    "        correct += (predicted == labels).sum().item()\n",
    "\n",
    "        predictions.extend(predicted.cpu().numpy())\n",
    "        true_labels.extend(labels.cpu().numpy())\n",
    "\n",
    "test_accuracy = 100 * correct / total\n",
    "print(f\"\\nPrecisión en el conjunto de prueba: {test_accuracy:.2f}%\")"
   ]
  },
  {
   "cell_type": "code",
   "execution_count": 22,
   "id": "114cfccc",
   "metadata": {},
   "outputs": [
    {
     "name": "stdout",
     "output_type": "stream",
     "text": [
      "\n",
      "Algunas predicciones aleatorias vs etiquetas reales en el conjunto de prueba:\n",
      "Predicción: 2, Real: 2\n",
      "Predicción: 2, Real: 2\n",
      "Predicción: 0, Real: 0\n",
      "Predicción: 0, Real: 0\n",
      "Predicción: 3, Real: 3\n",
      "Predicción: 3, Real: 3\n",
      "Predicción: 3, Real: 2\n",
      "Predicción: 1, Real: 1\n",
      "Predicción: 0, Real: 0\n",
      "Predicción: 0, Real: 0\n",
      "Predicción: 0, Real: 0\n",
      "Predicción: 1, Real: 1\n",
      "Predicción: 0, Real: 0\n",
      "Predicción: 3, Real: 3\n",
      "Predicción: 2, Real: 2\n",
      "Predicción: 3, Real: 3\n",
      "Predicción: 3, Real: 3\n",
      "Predicción: 0, Real: 0\n",
      "Predicción: 2, Real: 2\n",
      "Predicción: 3, Real: 3\n"
     ]
    }
   ],
   "source": [
    "# Seleccionamos 20 ejemplos aleatorios del conjunto de prueba\n",
    "random_indices = np.random.choice(len(predictions), size=20, replace=False)\n",
    "\n",
    "# Mostramos las predicciones aleatorias junto con las etiquetas reales\n",
    "print(\"\\nAlgunas predicciones aleatorias vs etiquetas reales en el conjunto de prueba:\")\n",
    "for i in random_indices:\n",
    "    print(f\"Predicción: {predictions[i]}, Real: {true_labels[i]}\")"
   ]
  },
  {
   "cell_type": "markdown",
   "id": "83eaca11",
   "metadata": {},
   "source": [
    "## 8. Interpretación de los resultados"
   ]
  },
  {
   "cell_type": "markdown",
   "id": "a9f818c9",
   "metadata": {},
   "source": [
    "### Interpretacion de los graficos"
   ]
  },
  {
   "cell_type": "markdown",
   "id": "9680fba1",
   "metadata": {},
   "source": [
    "La pérdida disminuye rápidamente al principio, lo que significa que el modelo está aprendiendo bien. Sin embargo, después de un tiempo, la curva se estabiliza alrededor de 0.85. Esto es normal porque el modelo ha llegado a un punto donde ya no puede mejorar mucho más. Al principio, hace grandes ajustes en los pesos, pero luego, conforme aprende, las mejoras son más pequeñas. La pérdida se queda ahí porque el modelo ya está bastante optimizado y sigue funcionando bien. "
   ]
  },
  {
   "cell_type": "markdown",
   "id": "2f70de7a",
   "metadata": {},
   "source": [
    "### Interpretacion de la prueba del modelo"
   ]
  },
  {
   "cell_type": "markdown",
   "id": "0ad7e59b",
   "metadata": {},
   "source": [
    "Con una precisión del 90.52% en el conjunto de prueba, el modelo está haciendo un excelente trabajo, acertando 9 de cada 10 predicciones. Esto indica que ha aprendido bien y puede generalizar a datos nuevos de manera efectiva."
   ]
  },
  {
   "cell_type": "markdown",
   "id": "baff3cfa",
   "metadata": {},
   "source": [
    "# 9. Conclusiones"
   ]
  },
  {
   "cell_type": "markdown",
   "id": "09655f43",
   "metadata": {},
   "source": [
    "Ll modelo One-vs-All tiene la ventaja de ser sencillo y eficiente para problemas con clases claramente separables. Sin embargo, cuando las clases son similares, como ocurrió con los Quartiles 2 y 3, puede ser difícil para el modelo diferenciarlas correctamente, ya que cada clase se aprende por separado, lo que crea incertidumbres. Además, este enfoque requiere entrenar un clasificador por cada clase, lo cual se vuelve costoso en conjuntos de datos grandes.\n",
    "\n",
    "Por otro lado, las redes neuronales son capaces de aprender patrones más complejos y manejar mejor las interacciones entre clases. Aunque son más complicadas de entrenar y requieren más recursos, su capacidad para generalizar a datos nuevos es más alta. De hecho, la red neuronal mostró un 90.52% de precisión en el conjunto de prueba, lo que es superior al rendimiento del modelo One-vs-All (81.19%).\n",
    "\n",
    "En este caso, la red neuronal resulta ser la mejor opción, ya que maneja mejor la complejidad de las clases y tiene una mayor capacidad para generalizar."
   ]
  },
  {
   "cell_type": "markdown",
   "id": "2d541793",
   "metadata": {},
   "source": []
  }
 ],
 "metadata": {
  "kernelspec": {
   "display_name": "myenv",
   "language": "python",
   "name": "python3"
  },
  "language_info": {
   "codemirror_mode": {
    "name": "ipython",
    "version": 3
   },
   "file_extension": ".py",
   "mimetype": "text/x-python",
   "name": "python",
   "nbconvert_exporter": "python",
   "pygments_lexer": "ipython3",
   "version": "3.11.4"
  }
 },
 "nbformat": 4,
 "nbformat_minor": 5
}
