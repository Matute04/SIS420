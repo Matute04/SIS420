{
  "cells": [
    {
      "cell_type": "code",
      "execution_count": null,
      "id": "MgkPcyhj2eaw",
      "metadata": {
        "colab": {
          "base_uri": "https://localhost:8080/"
        },
        "id": "MgkPcyhj2eaw",
        "outputId": "9c953e9e-1cef-4aa3-bf0a-2f4eb80b17f8"
      },
      "outputs": [
        {
          "name": "stdout",
          "output_type": "stream",
          "text": [
            "Drive already mounted at /content/drive; to attempt to forcibly remount, call drive.mount(\"/content/drive\", force_remount=True).\n"
          ]
        }
      ],
      "source": [
        "from google.colab import drive\n",
        "drive.mount('/content/drive')"
      ]
    },
    {
      "cell_type": "markdown",
      "id": "VuOWF4YOYmYo",
      "metadata": {
        "id": "VuOWF4YOYmYo"
      },
      "source": [
        "# Laboratorio 1\n",
        "## Grupo Laboratorio N°1\n",
        "## Grupo 5\n",
        "- Gutierrez Coronado Matias Ezequiel\n",
        "- Flores Medina Erik Daniel\n",
        "- Marin Masti Gustavo (oyente)\n",
        "- Montaño Pacaja Leonardo Miguel (oyente)\n",
        "- Monzón Bruno Antonio (oyente)\n",
        "- Saygua Romero Josue (oyente)"
      ]
    },
    {
      "cell_type": "markdown",
      "id": "L0fETDad9P3d",
      "metadata": {
        "id": "L0fETDad9P3d"
      },
      "source": [
        "# 1. Metodo del gradiente"
      ]
    },
    {
      "cell_type": "markdown",
      "id": "97e8fe7c-13bd-44fa-bfda-8a9a37d7b3bb",
      "metadata": {
        "id": "97e8fe7c-13bd-44fa-bfda-8a9a37d7b3bb"
      },
      "source": [
        "## 1.1 Importación de Librerías para Análisis y Visualización"
      ]
    },
    {
      "cell_type": "code",
      "execution_count": null,
      "id": "360660e0-89fb-4538-bd13-279b1ebc8989",
      "metadata": {
        "id": "360660e0-89fb-4538-bd13-279b1ebc8989"
      },
      "outputs": [],
      "source": [
        "import os\n",
        "import numpy as np\n",
        "import pandas as pd\n",
        "from matplotlib import pyplot\n",
        "#from mpl_toolkits.mplot3d import Axes3D  # Necesario para graficar superficies 3D\n",
        "\n",
        "# Permite que las gráficas de Matplotlib se muestren dentro del cuaderno de Jupyter\n",
        "%matplotlib inline\n"
      ]
    },
    {
      "cell_type": "markdown",
      "id": "9df18f12-5e38-4eb7-8f31-3ce137921423",
      "metadata": {
        "id": "9df18f12-5e38-4eb7-8f31-3ce137921423"
      },
      "source": [
        "## 1.2 Carga de Datos desde un Archivo CSV"
      ]
    },
    {
      "cell_type": "code",
      "execution_count": null,
      "id": "ddbe7fb6-2e78-48fb-ab22-f956ff7363bb",
      "metadata": {
        "colab": {
          "base_uri": "https://localhost:8080/"
        },
        "id": "ddbe7fb6-2e78-48fb-ab22-f956ff7363bb",
        "outputId": "492773d0-1012-4354-ecab-d9795359aa46"
      },
      "outputs": [
        {
          "name": "stdout",
          "output_type": "stream",
          "text": [
            "12844\n"
          ]
        }
      ],
      "source": [
        "dataset_path = \"/content/drive/MyDrive/Inteligencia Artificial/Datasets/nba.csv\"\n",
        "data = pd.read_csv(dataset_path)\n",
        "print(data.shape[0])"
      ]
    },
    {
      "cell_type": "markdown",
      "id": "b23698a3-7f95-46e9-b74d-278eb5b58316",
      "metadata": {
        "id": "b23698a3-7f95-46e9-b74d-278eb5b58316"
      },
      "source": [
        "## 1.3 Selección y Visualización de Características del Conjunto de Datos"
      ]
    },
    {
      "cell_type": "code",
      "execution_count": null,
      "id": "01ca18ec-4bf8-4ce9-846b-f2fac354864e",
      "metadata": {
        "colab": {
          "base_uri": "https://localhost:8080/"
        },
        "id": "01ca18ec-4bf8-4ce9-846b-f2fac354864e",
        "outputId": "f0de1a3e-5104-48ad-e36f-830c0c21eff3"
      },
      "outputs": [
        {
          "name": "stdout",
          "output_type": "stream",
          "text": [
            "Número de ejemplos de entrenamiento: 12844\n",
            "    Edad    Altura      Peso      PJ  Net_Rating    Oreb_Pct     Usg_Pct      TS_Pct     Ast_Pct    Puntos\n",
            "----------------------------------------------------------------------------------------------------\n",
            "      22       193        95      64        0.30        0.04        0.17        0.49        0.25      3.90\n",
            "      28       190        86       4        8.90        0.03        0.17        0.50        0.04      3.80\n",
            "      26       203       103      41       -8.20        0.11        0.17        0.51        0.12      8.30\n",
            "      30       203       102      64       -2.70        0.03        0.21        0.53        0.12     10.20\n",
            "      23       213       120      52      -14.10        0.10        0.20        0.50        0.06      2.80\n",
            "      33       198       102      80       -5.80        0.03        0.20        0.50        0.14     10.60\n",
            "      26       231       137      73        6.90        0.10        0.18        0.62        0.02     10.60\n",
            "      30       203       100      79        3.20        0.03        0.27        0.60        0.09     26.80\n",
            "      24       201       107      80       -2.90        0.05        0.28        0.53        0.15     21.10\n",
            "      24       203       102      80        6.90        0.05        0.28        0.56        0.36     21.40\n"
          ]
        }
      ],
      "source": [
        "X = data[[\"age\", \"player_height\", \"player_weight\", \"gp\", \"net_rating\",\n",
        "          \"oreb_pct\", \"usg_pct\", \"ts_pct\", \"ast_pct\"]].values  # Convertir a numpy\n",
        "y = data[\"pts\"].values\n",
        "m = y.size\n",
        "\n",
        "# Imprimir algunos puntos de datos para inspección\n",
        "print(f\"Número de ejemplos de entrenamiento: {m}\")\n",
        "print('{:>8s}{:>10s}{:>10s}{:>8s}{:>12s}{:>12s}{:>12s}{:>12s}{:>12s}{:>10s}'.format(\n",
        "    'Edad', 'Altura', 'Peso', 'PJ', 'Net_Rating', 'Oreb_Pct', 'Usg_Pct', 'TS_Pct', 'Ast_Pct', 'Puntos'))\n",
        "print('-' * 100)\n",
        "\n",
        "# Mostrar hasta 10 ejemplos del conjunto de datos\n",
        "for i in range(min(10, m)):\n",
        "    print('{:8.0f}{:10.0f}{:10.0f}{:8.0f}{:12.2f}{:12.2f}{:12.2f}{:12.2f}{:12.2f}{:10.2f}'.format(\n",
        "        X[i, 0], X[i, 1], X[i, 2], X[i, 3], X[i, 4], X[i, 5], X[i, 6], X[i, 7], X[i, 8], y[i]\n",
        "    ))\n"
      ]
    },
    {
      "cell_type": "markdown",
      "id": "c508e9cc-50ef-4537-86bb-70411f06fb55",
      "metadata": {
        "id": "c508e9cc-50ef-4537-86bb-70411f06fb55"
      },
      "source": [
        "## 1.4 Normalización de Características"
      ]
    },
    {
      "cell_type": "code",
      "execution_count": null,
      "id": "1415fcc5-1237-4700-8a36-d9dcbb6d320e",
      "metadata": {
        "id": "1415fcc5-1237-4700-8a36-d9dcbb6d320e"
      },
      "outputs": [],
      "source": [
        "def featureNormalize(X):\n",
        "    X_norm = X.copy()\n",
        "    mu = np.mean(X, axis=0)\n",
        "    sigma = np.std(X, axis=0)\n",
        "    X_norm = (X - mu) / sigma\n",
        "\n",
        "    return X_norm, mu, sigma\n"
      ]
    },
    {
      "cell_type": "markdown",
      "id": "ba950100-3cf7-4a99-9d22-ff6a7d338442",
      "metadata": {
        "id": "ba950100-3cf7-4a99-9d22-ff6a7d338442"
      },
      "source": [
        "## 1.5 Aplicación de la Normalización de Características"
      ]
    },
    {
      "cell_type": "code",
      "execution_count": null,
      "id": "980458ca-7944-460f-ad61-001f64c2a36c",
      "metadata": {
        "colab": {
          "base_uri": "https://localhost:8080/"
        },
        "id": "980458ca-7944-460f-ad61-001f64c2a36c",
        "outputId": "1c9c8f7a-eec1-4ad5-aefe-3bc494f71fdf"
      },
      "outputs": [
        {
          "name": "stdout",
          "output_type": "stream",
          "text": [
            "      22     193      95      64      0.30      0.04      0.17      0.49      0.25\n",
            "      28     190      86       4      8.90      0.03      0.17      0.50      0.04\n",
            "      26     203     103      41     -8.20      0.11      0.17      0.51      0.12\n",
            "      30     203     102      64     -2.70      0.03      0.21      0.53      0.12\n",
            "      23     213     120      52    -14.10      0.10      0.20      0.50      0.06\n",
            "      33     198     102      80     -5.80      0.03      0.20      0.50      0.14\n",
            "      26     231     137      73      6.90      0.10      0.18      0.62      0.02\n",
            "      30     203     100      79      3.20      0.03      0.27      0.60      0.09\n",
            "      24     201     107      80     -2.90      0.05      0.28      0.53      0.15\n",
            "      24     203     102      80      6.90      0.05      0.28      0.56      0.36\n",
            "-------------------------------------------------------------------------------------------------------\n",
            "media de cada columna\n",
            "   27.05  200.56  100.26   51.15     -2.23      0.05      0.18      0.51      0.13\n",
            "desviacion estandar de cada columna\n",
            "    4.34    9.11   12.43   25.08     12.66      0.04      0.05      0.10      0.09\n",
            "-------------------------------------------------------------------------------------------------------\n",
            "      -1      -1      -0       1      0.20     -0.28     -0.29     -0.26      1.24\n",
            "       0      -1      -1      -2      0.88     -0.56     -0.20     -0.16     -0.94\n",
            "      -0       0       0      -0     -0.47      1.20     -0.18     -0.01     -0.07\n",
            "       1       0       0       1     -0.04     -0.62      0.40      0.14     -0.07\n",
            "      -1       1       2       0     -0.94      1.11      0.19     -0.13     -0.72\n",
            "       1      -0       0       1     -0.28     -0.53      0.34     -0.10      0.12\n",
            "      -0       3       3       1      0.72      1.01      0.01      1.03     -1.14\n",
            "       1       0      -0       1      0.43     -0.67      1.63      0.90     -0.46\n",
            "      -1       0       1       1     -0.05     -0.07      1.74      0.15      0.15\n",
            "      -1       0       0       1      0.72     -0.12      1.84      0.42      2.38\n"
          ]
        }
      ],
      "source": [
        "# llama featureNormalize con los datos cargados\n",
        "X_norm, mu, sigma = featureNormalize(X)\n",
        "\n",
        "for i in range(min(10, m)):\n",
        "    print('{:8.0f}{:8.0f}{:8.0f}{:8.0f}{:10.2f}{:10.2f}{:10.2f}{:10.2f}{:10.2f}'.format(\n",
        "        X[i, 0], X[i, 1], X[i, 2], X[i, 3], X[i, 4], X[i, 5], X[i, 6], X[i, 7], X[i, 8]\n",
        "    ))\n",
        "print('-------------------------------------------------------------------------------------------------------')\n",
        "print('media de cada columna')\n",
        "print('{:8.2f}{:8.2f}{:8.2f}{:8.2f}{:10.2f}{:10.2f}{:10.2f}{:10.2f}{:10.2f}'.format(*mu))\n",
        "print('desviacion estandar de cada columna')\n",
        "print('{:8.2f}{:8.2f}{:8.2f}{:8.2f}{:10.2f}{:10.2f}{:10.2f}{:10.2f}{:10.2f}'.format(*sigma))\n",
        "print('-------------------------------------------------------------------------------------------------------')\n",
        "for i in range(min(10, m)):\n",
        "    print('{:8.0f}{:8.0f}{:8.0f}{:8.0f}{:10.2f}{:10.2f}{:10.2f}{:10.2f}{:10.2f}'.format(\n",
        "        X_norm[i, 0], X_norm[i, 1], X_norm[i, 2], X_norm[i, 3], X_norm[i, 4], X_norm[i, 5], X_norm[i, 6], X_norm[i, 7], X_norm[i, 8]\n",
        "    ))"
      ]
    },
    {
      "cell_type": "markdown",
      "id": "952a629b-024c-4307-b74e-e629b542d867",
      "metadata": {
        "id": "952a629b-024c-4307-b74e-e629b542d867"
      },
      "source": [
        "## 1.6 Adición del Término de Intersección"
      ]
    },
    {
      "cell_type": "code",
      "execution_count": null,
      "id": "51eccede-c3bc-45fc-9c38-ae0a254f6ade",
      "metadata": {
        "id": "51eccede-c3bc-45fc-9c38-ae0a254f6ade"
      },
      "outputs": [],
      "source": [
        "X = np.concatenate([np.ones((m, 1)), X_norm], axis=1)"
      ]
    },
    {
      "cell_type": "code",
      "execution_count": null,
      "id": "6f4ce4d3-c803-435a-b59d-9d6a44f2ecb3",
      "metadata": {
        "colab": {
          "base_uri": "https://localhost:8080/"
        },
        "id": "6f4ce4d3-c803-435a-b59d-9d6a44f2ecb3",
        "outputId": "408ccea4-a030-4d4a-92ad-76289007a52b"
      },
      "outputs": [
        {
          "name": "stdout",
          "output_type": "stream",
          "text": [
            "       1      -1      -1      -0      0.51      0.20     -0.28     -0.29     -0.26      1.24\n",
            "       1       0      -1      -1     -1.88      0.88     -0.56     -0.20     -0.16     -0.94\n",
            "       1      -0       0       0     -0.40     -0.47      1.20     -0.18     -0.01     -0.07\n",
            "       1       1       0       0      0.51     -0.04     -0.62      0.40      0.14     -0.07\n",
            "       1      -1       1       2      0.03     -0.94      1.11      0.19     -0.13     -0.72\n",
            "       1       1      -0       0      1.15     -0.28     -0.53      0.34     -0.10      0.12\n",
            "       1      -0       3       3      0.87      0.72      1.01      0.01      1.03     -1.14\n",
            "       1       1       0      -0      1.11      0.43     -0.67      1.63      0.90     -0.46\n",
            "       1      -1       0       1      1.15     -0.05     -0.07      1.74      0.15      0.15\n",
            "       1      -1       0       0      1.15      0.72     -0.12      1.84      0.42      2.38\n"
          ]
        }
      ],
      "source": [
        "for i in range(min(10, m)):\n",
        "    print('{:8.0f}{:8.0f}{:8.0f}{:8.0f}{:10.2f}{:10.2f}{:10.2f}{:10.2f}{:10.2f}{:10.2f}'.format(\n",
        "        X[i, 0], X[i, 1], X[i, 2], X[i, 3], X[i, 4], X[i, 5], X[i, 6], X[i, 7], X[i, 8], X[i, 9]\n",
        "    ))"
      ]
    },
    {
      "cell_type": "markdown",
      "id": "59623ec8-ffc2-4e22-94c0-871e2aefa65a",
      "metadata": {
        "id": "59623ec8-ffc2-4e22-94c0-871e2aefa65a"
      },
      "source": [
        "## 1.7 Cálculo de la Función de Costo para Múltiples Variables"
      ]
    },
    {
      "cell_type": "code",
      "execution_count": null,
      "id": "2e779110-971c-4535-9aa5-88003e27a713",
      "metadata": {
        "id": "2e779110-971c-4535-9aa5-88003e27a713"
      },
      "outputs": [],
      "source": [
        "def computeCostMulti(X, y, theta):\n",
        "    m = y.shape[0]\n",
        "    J = 0\n",
        "    # h = np.dot(X, theta)\n",
        "\n",
        "    J = (1/(2 * m)) * np.sum(np.square(np.dot (X,theta) - y))\n",
        "\n",
        "    return J\n"
      ]
    },
    {
      "cell_type": "markdown",
      "id": "9d14fe4f-fb7f-475a-a8e6-a5280b2a96ed",
      "metadata": {
        "id": "9d14fe4f-fb7f-475a-a8e6-a5280b2a96ed"
      },
      "source": [
        "## 1.8 Implementación del Descenso por el Gradiente para Múltiples Variables"
      ]
    },
    {
      "cell_type": "code",
      "execution_count": null,
      "id": "b14148b2-808a-4669-a6da-c37e2be115f0",
      "metadata": {
        "id": "b14148b2-808a-4669-a6da-c37e2be115f0",
        "scrolled": true
      },
      "outputs": [],
      "source": [
        "def gradientDescentMulti(X, y, theta, alpha, num_iters):\n",
        "    m = y.shape[0]\n",
        "    theta = theta.copy()\n",
        "    J_history = []\n",
        "\n",
        "    for i in range(num_iters):\n",
        "        theta = theta - (alpha / m) * (np.dot(X, theta) - y).dot(X)\n",
        "        J_history.append(computeCostMulti(X, y, theta))\n",
        "\n",
        "    return theta, J_history"
      ]
    },
    {
      "cell_type": "markdown",
      "id": "069b46c9-8c4b-48f9-aebe-9310d3f40f75",
      "metadata": {
        "id": "069b46c9-8c4b-48f9-aebe-9310d3f40f75"
      },
      "source": [
        "## 1.9 Ejecución del Descenso por Gradiente y Predicción"
      ]
    },
    {
      "cell_type": "code",
      "execution_count": null,
      "id": "d157772a-efce-46c0-adee-599a789133c1",
      "metadata": {
        "colab": {
          "base_uri": "https://localhost:8080/",
          "height": 501
        },
        "id": "d157772a-efce-46c0-adee-599a789133c1",
        "outputId": "e86fce20-8de9-47b0-c9ac-30fd9162a3b7"
      },
      "outputs": [
        {
          "name": "stdout",
          "output_type": "stream",
          "text": [
            "Theta calculado por el descenso por gradiente: [ 7.53929469  0.0838181   0.34021272  0.34696249  2.07535864  0.38851946\n",
            " -0.44452591  2.91707135  1.01414193  0.92781903]\n",
            "Puntos esperados para el jugador ingresado: 15.99\n"
          ]
        },
        {
          "data": {
            "image/png": "[encoded data removed]",
            "text/plain": [
              "<Figure size 640x480 with 1 Axes>"
            ]
          },
          "metadata": {},
          "output_type": "display_data"
        }
      ],
      "source": [
        "# Definir la tasa de aprendizaje y el número de iteraciones para el descenso por gradiente\n",
        "alpha = 0.001\n",
        "num_iters = 2500\n",
        "theta = np.zeros(X.shape[1])\n",
        "\n",
        "theta, J_history = gradientDescentMulti(X, y, theta, alpha, num_iters)\n",
        "\n",
        "# Graficar la convergencia del costo durante las iteraciones\n",
        "pyplot.plot(np.arange(len(J_history)), J_history, lw=2)\n",
        "pyplot.xlabel('Número de iteraciones')\n",
        "pyplot.ylabel('Costo J')\n",
        "\n",
        "# Imprimir los valores óptimos de theta encontrados\n",
        "print('Theta calculado por el descenso por gradiente:', theta)\n",
        "\n",
        "X_array = np.array([1, 34.0, 190.5, 82.0, 70, 5.1, 0.030, 0.250, 0.590, 0.420])\n",
        "X_array[1:] = (X_array[1:] - mu) / sigma\n",
        "prediccion_pts = np.dot(X_array, theta)\n",
        "\n",
        "# Mostrar la predicción de puntos para el jugador ingresado\n",
        "print('Puntos esperados para el jugador ingresado: {:.2f}'.format(prediccion_pts))\n",
        "#print('{:8.2f}{:8.2f}{:8.2f}{:8.2f}{:10.2f}{:10.2f}{:10.2f}{:10.2f}{:10.2f}'.format(*prediccion_pts))\n"
      ]
    },
    {
      "cell_type": "markdown",
      "id": "1bef71e9-5086-4efb-8204-fd6e74c65453",
      "metadata": {
        "id": "1bef71e9-5086-4efb-8204-fd6e74c65453"
      },
      "source": [
        "## 1.10 Predicción de Puntos para un Jugador Específico"
      ]
    },
    {
      "cell_type": "code",
      "execution_count": null,
      "id": "e6129b2a-53a8-4274-aea7-eb3f5361a371",
      "metadata": {
        "colab": {
          "base_uri": "https://localhost:8080/"
        },
        "id": "e6129b2a-53a8-4274-aea7-eb3f5361a371",
        "outputId": "f8801ad4-69ca-486c-cea1-4832c7480690"
      },
      "outputs": [
        {
          "name": "stdout",
          "output_type": "stream",
          "text": [
            "Puntos esperados para el jugador ingresado: 12.15\n"
          ]
        }
      ],
      "source": [
        "# Estimar los puntos esperados para un jugador de 25 años, 198 cm de altura, 95 kg de peso,\n",
        "# 65 partidos jugados, net rating de 5.4, 9.3% de rebotes ofensivos, 23.5% de uso,\n",
        "# 58.1% de true shooting y 18.2% de asistencias.\n",
        "X_array = np.array([1,25, 198, 95, 65, 5.4, 0.093, 0.235, 0.581, 0.182])\n",
        "X_array[1:] = (X_array[1:] - mu) / sigma\n",
        "prediccion_pts = np.dot(X_array, theta)\n",
        "print('Puntos esperados para el jugador ingresado: {:.2f}'.format(prediccion_pts))"
      ]
    },
    {
      "cell_type": "code",
      "execution_count": null,
      "id": "e0a02cbd-6ad3-4336-b4e4-b9dcd2360f71",
      "metadata": {
        "colab": {
          "base_uri": "https://localhost:8080/"
        },
        "id": "e0a02cbd-6ad3-4336-b4e4-b9dcd2360f71",
        "outputId": "cdbc22c9-6d91-4099-9b1c-17be9f5ccc65"
      },
      "outputs": [
        {
          "name": "stdout",
          "output_type": "stream",
          "text": [
            "Puntos esperados para el jugador ingresado: 9.00\n"
          ]
        }
      ],
      "source": [
        "# Estimar los puntos esperados para un jugador de 24 años, 192 cm de altura, 88 kg de peso,\n",
        "# 60 partidos jugados, net rating de 2.9, 8.1% de rebotes ofensivos, 20.5% de uso,\n",
        "# 54.3% de true shooting y 14.8% de asistencias.\n",
        "X_array = np.array([1,24, 192, 88, 60, 2.9, 0.081, 0.205, 0.543, 0.148])\n",
        "X_array[1:] = (X_array[1:] - mu) / sigma\n",
        "prediccion_pts = np.dot(X_array, theta)\n",
        "print('Puntos esperados para el jugador ingresado: {:.2f}'.format(prediccion_pts))"
      ]
    },
    {
      "cell_type": "code",
      "execution_count": null,
      "id": "2e1fb8c9-a485-4a26-9503-7e51a93aaac0",
      "metadata": {
        "colab": {
          "base_uri": "https://localhost:8080/"
        },
        "id": "2e1fb8c9-a485-4a26-9503-7e51a93aaac0",
        "outputId": "11bc7341-38a1-4e38-e2d2-62ac597b6e13"
      },
      "outputs": [
        {
          "name": "stdout",
          "output_type": "stream",
          "text": [
            "Puntos esperados para el jugador ingresado: 12.87\n"
          ]
        }
      ],
      "source": [
        "# Estimar los puntos esperados para un jugador de 32 años, 206 cm de altura, 102 kg de peso,\n",
        "# 80 partidos jugados, net rating de 4.8, 10.2% de rebotes ofensivos, 21.7% de uso,\n",
        "# 57.8% de true shooting y 17.9% de asistencias.\n",
        "X_array = np.array([1,32, 206, 102, 80, 4.8, 0.102, 0.217, 0.578, 0.179])\n",
        "X_array[1:] = (X_array[1:] - mu) / sigma\n",
        "prediccion_pts = np.dot(X_array, theta)\n",
        "print('Puntos esperados para el jugador ingresado: {:.2f}'.format(prediccion_pts))"
      ]
    },
    {
      "cell_type": "markdown",
      "id": "bebb635f-acf2-431f-a911-755a2209ab74",
      "metadata": {
        "id": "bebb635f-acf2-431f-a911-755a2209ab74"
      },
      "source": [
        "## 1.11 Evaluación del Modelo de Regresión: Análisis de Errores"
      ]
    },
    {
      "cell_type": "code",
      "execution_count": null,
      "id": "a3281bef-adb6-4367-8d52-477faaad1c0e",
      "metadata": {
        "colab": {
          "base_uri": "https://localhost:8080/",
          "height": 489
        },
        "id": "a3281bef-adb6-4367-8d52-477faaad1c0e",
        "outputId": "b5aab2ab-bf20-4dbc-f706-6973f52a7ef5"
      },
      "outputs": [
        {
          "data": {
            "image/png": "[encoded data removed]",
            "text/plain": [
              "<Figure size 640x480 with 1 Axes>"
            ]
          },
          "metadata": {},
          "output_type": "display_data"
        },
        {
          "name": "stdout",
          "output_type": "stream",
          "text": [
            "\n"
          ]
        }
      ],
      "source": [
        "import matplotlib.pyplot as plt\n",
        "\n",
        "y_pred = np.dot(X, theta)\n",
        "# Graficar el histograma de los errores de predicción para analizar la distribución de los residuos\n",
        "errores = y - y_pred\n",
        "plt.hist(errores, bins=30, edgecolor='black')\n",
        "plt.xlabel('Error de Predicción')\n",
        "plt.ylabel('Frecuencia')\n",
        "plt.title('Histograma de Errores (Residuos)')\n",
        "plt.show()\n",
        "print()"
      ]
    },
    {
      "cell_type": "code",
      "execution_count": null,
      "id": "48812a4c-ebe3-46e7-8345-7f2c6b708866",
      "metadata": {
        "colab": {
          "base_uri": "https://localhost:8080/"
        },
        "id": "48812a4c-ebe3-46e7-8345-7f2c6b708866",
        "outputId": "1ad6e179-24fa-4c9a-82d0-d7c17762421e"
      },
      "outputs": [
        {
          "name": "stdout",
          "output_type": "stream",
          "text": [
            "Máximo de puntos anotados por un jugador: 36.1\n",
            "Error Absoluto Medio (MAE): 2.6964724386948453\n",
            "La presicion: 92.53054726123311 %\n"
          ]
        }
      ],
      "source": [
        "from sklearn.metrics import mean_absolute_error\n",
        "\n",
        "max_puntos = data[\"pts\"].max()\n",
        "\n",
        "# Calcula el Error Absoluto Medio (MAE), que mide la magnitud promedio de los errores entre los valores reales (y) y los predichos (y_pred),\n",
        "# sin tener en cuenta la dirección del error (es decir, sin importar si la predicción fue mayor o menor que el valor real).\n",
        "mae = mean_absolute_error(y, y_pred)\n",
        "precision = 100 - ((mae / max_puntos) * 100)\n",
        "\n",
        "print(\"Máximo de puntos anotados por un jugador:\", max_puntos)\n",
        "print(\"Error Absoluto Medio (MAE):\", mae)\n",
        "print(\"La presicion:\", precision,\"%\")"
      ]
    },
    {
      "cell_type": "markdown",
      "id": "JXn6sHHd9_zu",
      "metadata": {
        "id": "JXn6sHHd9_zu"
      },
      "source": [
        "# 2. Metodo de Ecuacion de la Normal\n"
      ]
    },
    {
      "cell_type": "markdown",
      "id": "e7497baf-40ec-4664-9c82-6f63c90b6ca8",
      "metadata": {
        "id": "e7497baf-40ec-4664-9c82-6f63c90b6ca8"
      },
      "source": [
        "## 2.1 Ecuación de la Normal"
      ]
    },
    {
      "cell_type": "code",
      "execution_count": null,
      "id": "3ca43c0e-519f-48af-a71f-0c880aafc7b0",
      "metadata": {
        "id": "3ca43c0e-519f-48af-a71f-0c880aafc7b0"
      },
      "outputs": [],
      "source": [
        "# Leer el archivo CSV\n",
        "# dataset_path = \"nba.csv\"\n",
        "data = pd.read_csv(dataset_path)\n",
        "\n",
        "# Seleccionar características y convertir a numpy\n",
        "X = data[[\"age\", \"player_height\", \"player_weight\", \"gp\", \"net_rating\",\n",
        "          \"oreb_pct\", \"usg_pct\", \"ts_pct\", \"ast_pct\"]].values  # Convertir a numpy\n",
        "y = data[\"pts\"].values  # Variable objetivo (puntos anotados)\n",
        "m = y.size\n",
        "X = np.concatenate([np.ones((m, 1)), X], axis=1)"
      ]
    },
    {
      "cell_type": "markdown",
      "id": "c36a9034-6bfd-480e-b447-642b8c466e24",
      "metadata": {
        "id": "c36a9034-6bfd-480e-b447-642b8c466e24"
      },
      "source": [
        "## 2.2 Función para Calcular los Parámetros de Regresión Lineal Usando la Ecuación Normal"
      ]
    },
    {
      "cell_type": "code",
      "execution_count": null,
      "id": "f7d928ff-f8cf-4403-aace-f9413ad1a343",
      "metadata": {
        "id": "f7d928ff-f8cf-4403-aace-f9413ad1a343"
      },
      "outputs": [],
      "source": [
        "def normalEqn(X, y):\n",
        "\n",
        "    theta = np.zeros(X.shape[1])\n",
        "\n",
        "    theta = np.dot(np.dot(np.linalg.inv(np.dot(X.T,X)),X.T),y)\n",
        "\n",
        "    return theta"
      ]
    },
    {
      "cell_type": "markdown",
      "id": "09c0206c-f414-422f-a059-328cf251face",
      "metadata": {
        "id": "09c0206c-f414-422f-a059-328cf251face"
      },
      "source": [
        "## 2.3  Predicción de Puntos para un Jugador Específico"
      ]
    },
    {
      "cell_type": "code",
      "execution_count": null,
      "id": "ea2485a0-4dfe-41ff-a596-0abd3f27e2f7",
      "metadata": {
        "colab": {
          "base_uri": "https://localhost:8080/"
        },
        "id": "ea2485a0-4dfe-41ff-a596-0abd3f27e2f7",
        "outputId": "d260c27c-cfcf-4ea0-91d4-e78e1ed9be32"
      },
      "outputs": [
        {
          "name": "stdout",
          "output_type": "stream",
          "text": [
            "Theta calculado a partir de la ecuación de la normal: [-2.76604239e+01  3.27839682e-02  6.22414094e-02  2.19282457e-02\n",
            "  8.78476362e-02  2.75448800e-02 -1.40890397e+01  5.90991114e+01\n",
            "  8.85808608e+00  8.94246536e+00]\n",
            "Puntos esperados para el jugador ingresado (usando la ecuación de la normal): 16.73\n"
          ]
        }
      ],
      "source": [
        "# Calcular los parámetros con la ecuación de la normal\n",
        "theta = normalEqn(X, y)\n",
        "\n",
        "# Muestra los resultados optenidos a partir de la aplicación de la ecuación de la normal\n",
        "print('Theta calculado a partir de la ecuación de la normal: {:s}'.format(str(theta)));\n",
        "\n",
        "# Datos de ejemplo: Estimar los puntos de un jugador con características específicas\n",
        "X_array = np.array([1,34.0, 190.5, 82.0, 70, 5.1, 0.030, 0.250, 0.590, 0.420])\n",
        "\n",
        "puntos = np.dot(X_array, theta)\n",
        "\n",
        "print('Puntos esperados para el jugador ingresado (usando la ecuación de la normal): {:.2f}'.format(puntos))\n"
      ]
    },
    {
      "cell_type": "code",
      "execution_count": null,
      "id": "99ffcc71-94a5-44d3-9ebd-0313b8c97304",
      "metadata": {
        "colab": {
          "base_uri": "https://localhost:8080/"
        },
        "id": "99ffcc71-94a5-44d3-9ebd-0313b8c97304",
        "outputId": "9c4c36c1-18e3-4155-b50b-e1c32e5506b2"
      },
      "outputs": [
        {
          "name": "stdout",
          "output_type": "stream",
          "text": [
            "Puntos esperados para el jugador ingresado (usando la ecuación de la normal): 12.78\n"
          ]
        }
      ],
      "source": [
        "# Estimar los puntos esperados para un jugador de 25 años, 198 cm de altura, 95 kg de peso,\n",
        "# 65 partidos jugados, net rating de 5.4, 9.3% de rebotes ofensivos, 23.5% de uso,\n",
        "# 58.1% de true shooting y 18.2% de asistencias.\n",
        "X_array = [1,25, 198, 95, 65, 5.4, 0.093, 0.235, 0.581, 0.182]\n",
        "price = np.dot(X_array, theta)\n",
        "print('Puntos esperados para el jugador ingresado (usando la ecuación de la normal): {:.2f}'.format(price))"
      ]
    },
    {
      "cell_type": "code",
      "execution_count": null,
      "id": "1e408106-b546-40f9-a5f6-49982eb548b2",
      "metadata": {
        "colab": {
          "base_uri": "https://localhost:8080/"
        },
        "id": "1e408106-b546-40f9-a5f6-49982eb548b2",
        "outputId": "62117c00-fd06-4d51-d576-294c8348f0df"
      },
      "outputs": [
        {
          "name": "stdout",
          "output_type": "stream",
          "text": [
            "Puntos esperados para el jugador ingresado (usando la ecuación de la normal): 9.46\n"
          ]
        }
      ],
      "source": [
        "# Estimar los puntos esperados para un jugador de 24 años, 192 cm de altura, 88 kg de peso,\n",
        "# 60 partidos jugados, net rating de 2.9, 8.1% de rebotes ofensivos, 20.5% de uso,\n",
        "# 54.3% de true shooting y 14.8% de asistencias.\n",
        "X_array = [1,24, 192, 88, 60, 2.9, 0.081, 0.205, 0.543, 0.148]\n",
        "price = np.dot(X_array, theta)\n",
        "print('Puntos esperados para el jugador ingresado (usando la ecuación de la normal): {:.2f}'.format(price))"
      ]
    },
    {
      "cell_type": "code",
      "execution_count": null,
      "id": "dc52e55c-60d1-41a9-983f-23ae19e8ab3b",
      "metadata": {
        "colab": {
          "base_uri": "https://localhost:8080/"
        },
        "id": "dc52e55c-60d1-41a9-983f-23ae19e8ab3b",
        "outputId": "6f1df469-d61c-435c-9314-92fe24a942c4"
      },
      "outputs": [
        {
          "name": "stdout",
          "output_type": "stream",
          "text": [
            "Puntos esperados para el jugador ingresado (usando la ecuación de la normal): 13.72\n"
          ]
        }
      ],
      "source": [
        "# Estimar los puntos esperados para un jugador de 32 años, 206 cm de altura, 102 kg de peso,\n",
        "# 80 partidos jugados, net rating de 4.8, 10.2% de rebotes ofensivos, 21.7% de uso,\n",
        "# 57.8% de true shooting y 17.9% de asistencias.\n",
        "X_array = [1,32, 206, 102, 80, 4.8, 0.102, 0.217, 0.578, 0.179]\n",
        "price = np.dot(X_array, theta)\n",
        "print('Puntos esperados para el jugador ingresado (usando la ecuación de la normal): {:.2f}'.format(price))"
      ]
    },
    {
      "cell_type": "markdown",
      "id": "KPuJs9yU-TOj",
      "metadata": {
        "id": "KPuJs9yU-TOj"
      },
      "source": [
        "## 2.4 Presicion por la utilizacion de la ecuacion de la normal"
      ]
    },
    {
      "cell_type": "code",
      "execution_count": null,
      "id": "b272990d-a0cc-4126-9e4f-d34bd5058163",
      "metadata": {
        "colab": {
          "base_uri": "https://localhost:8080/"
        },
        "id": "b272990d-a0cc-4126-9e4f-d34bd5058163",
        "outputId": "05daa7c0-b2b9-4246-f7aa-6eeb92bee340"
      },
      "outputs": [
        {
          "name": "stdout",
          "output_type": "stream",
          "text": [
            "Máximo de puntos anotados por un jugador: 36.1\n",
            "Error Absoluto Medio (MAE): 2.6776204225991225\n",
            "La presicion: 92.5827689124678 %\n"
          ]
        }
      ],
      "source": [
        "y_pred_N = np.dot(X, theta)\n",
        "mae = mean_absolute_error(y, y_pred_N)\n",
        "precision_N = 100 - ((mae / max_puntos) * 100)\n",
        "\n",
        "print(\"Máximo de puntos anotados por un jugador:\", max_puntos)\n",
        "print(\"Error Absoluto Medio (MAE):\", mae)\n",
        "print(\"La presicion:\", precision_N,\"%\")"
      ]
    }
  ],
  "metadata": {
    "colab": {
      "provenance": [],
      "toc_visible": true
    },
    "kernelspec": {
      "display_name": "Python 3 (ipykernel)",
      "language": "python",
      "name": "python3"
    },
    "language_info": {
      "codemirror_mode": {
        "name": "ipython",
        "version": 3
      },
      "file_extension": ".py",
      "mimetype": "text/x-python",
      "name": "python",
      "nbconvert_exporter": "python",
      "pygments_lexer": "ipython3",
      "version": "3.12.9"
    }
  },
  "nbformat": 4,
  "nbformat_minor": 5
}
