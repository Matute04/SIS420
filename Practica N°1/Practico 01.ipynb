{
  "nbformat": 4,
  "nbformat_minor": 0,
  "metadata": {
    "colab": {
      "provenance": []
    },
    "kernelspec": {
      "name": "python3",
      "display_name": "Python 3"
    },
    "language_info": {
      "name": "python"
    }
  },
  "cells": [
    {
      "cell_type": "markdown",
      "source": [
        "# Práctica 01\n",
        "## Grupo Laboratorio: 1\n",
        "## Estudiantes:\n",
        "- Flores Medina Erik Daniel\n",
        "- Gutierrez Coronado Matias Ezequiel\n"
      ],
      "metadata": {
        "id": "r6WPlrzOvoLI"
      }
    },
    {
      "cell_type": "code",
      "execution_count": 418,
      "metadata": {
        "colab": {
          "base_uri": "https://localhost:8080/"
        },
        "id": "ubHJb3IQKHWj",
        "outputId": "db82362e-33a1-4c4b-f225-29297f4e4ae4"
      },
      "outputs": [
        {
          "output_type": "stream",
          "name": "stdout",
          "text": [
            "Drive already mounted at /content/drive; to attempt to forcibly remount, call drive.mount(\"/content/drive\", force_remount=True).\n"
          ]
        }
      ],
      "source": [
        "from google.colab import drive\n",
        "drive.mount('/content/drive')"
      ]
    },
    {
      "cell_type": "code",
      "source": [
        "# Manejo de rutas y directorios\n",
        "import os\n",
        "\n",
        "# Cálculo científico y vectorial\n",
        "import numpy as np\n",
        "import pandas as pd  # Para trabajar con archivos CSV\n",
        "\n",
        "# Librerías para graficar\n",
        "import matplotlib.pyplot as plt\n",
        "# Librerias para graficar\n",
        "from matplotlib import pyplot\n",
        "# Módulo de optimización de scipy\n",
        "from scipy import optimize\n",
        "\n",
        "# Le dice a matplotlib que incruste gráficos en el cuaderno\n",
        "%matplotlib inline"
      ],
      "metadata": {
        "id": "MdpjVSFpKH09"
      },
      "execution_count": 419,
      "outputs": []
    },
    {
      "cell_type": "code",
      "source": [
        "dataset_path = \"/content/drive/MyDrive/Colab Notebooks/heart.csv\"\n",
        "data = pd.read_csv(dataset_path)\n",
        "print(data.shape[0])"
      ],
      "metadata": {
        "colab": {
          "base_uri": "https://localhost:8080/"
        },
        "id": "-4S5x-zkKckj",
        "outputId": "9fe697fa-6eb2-4c8e-aa63-ad6c947688a5"
      },
      "execution_count": 420,
      "outputs": [
        {
          "output_type": "stream",
          "name": "stdout",
          "text": [
            "918\n"
          ]
        }
      ]
    },
    {
      "cell_type": "code",
      "source": [
        "X = data[['Age', 'RestingBP', 'Cholesterol', 'MaxHR', 'Oldpeak']].values  # Variables predictoras\n",
        "y = data['HeartDisease'].values  # Variable objetivo\n",
        "print(X)"
      ],
      "metadata": {
        "colab": {
          "base_uri": "https://localhost:8080/"
        },
        "id": "dyA4FeZ5K7mH",
        "outputId": "38ce8cc2-3b85-4e77-e595-de11947e3f95"
      },
      "execution_count": 421,
      "outputs": [
        {
          "output_type": "stream",
          "name": "stdout",
          "text": [
            "[[ 40.  140.  289.  172.    0. ]\n",
            " [ 49.  160.  180.  156.    1. ]\n",
            " [ 37.  130.  283.   98.    0. ]\n",
            " ...\n",
            " [ 57.  130.  131.  115.    1.2]\n",
            " [ 57.  130.  236.  174.    0. ]\n",
            " [ 38.  138.  175.  173.    0. ]]\n"
          ]
        }
      ]
    },
    {
      "cell_type": "code",
      "source": [
        "print(y)"
      ],
      "metadata": {
        "colab": {
          "base_uri": "https://localhost:8080/"
        },
        "id": "4z6YcSdzM4mQ",
        "outputId": "19b8c333-5314-4c69-f40a-3c622e5856bf"
      },
      "execution_count": 422,
      "outputs": [
        {
          "output_type": "stream",
          "name": "stdout",
          "text": [
            "[0 1 0 1 0 0 0 0 1 0 0 1 0 1 0 0 1 0 1 1 0 0 0 1 0 0 0 0 0 0 1 0 1 1 0 0 1\n",
            " 0 0 0 0 1 0 0 1 0 0 0 0 1 1 1 0 0 0 0 1 1 0 1 0 0 0 1 0 0 0 0 1 0 1 0 1 0\n",
            " 1 0 1 0 0 1 0 0 1 0 1 1 1 0 1 0 0 0 0 1 0 1 0 0 0 0 1 0 1 1 1 0 0 0 0 0 0\n",
            " 1 0 0 0 1 1 1 0 1 1 0 0 1 0 0 0 0 0 0 0 1 1 1 0 1 0 0 1 1 1 1 1 0 1 0 0 0\n",
            " 0 1 0 0 0 0 0 1 1 0 1 0 1 1 0 0 0 1 1 0 0 0 0 0 0 0 1 1 1 0 0 0 1 0 1 0 0\n",
            " 1 0 1 0 1 0 0 0 0 0 0 0 0 1 0 0 0 0 0 0 0 0 1 0 1 1 1 0 0 1 0 1 0 0 0 1 1\n",
            " 0 0 0 1 0 1 0 0 0 0 0 0 0 0 1 1 1 1 0 1 1 0 1 0 1 1 1 1 1 1 0 0 1 0 0 0 0\n",
            " 0 0 0 1 1 1 0 1 0 1 0 0 0 1 0 0 0 1 1 0 0 0 1 0 0 0 0 0 0 0 0 0 0 0 1 1 1\n",
            " 1 1 1 1 1 0 1 1 1 1 1 0 1 1 0 1 1 1 0 1 1 1 1 1 1 1 1 1 1 1 0 1 1 1 1 1 0\n",
            " 1 1 1 0 1 1 1 1 1 1 1 1 1 1 1 1 1 1 1 1 1 1 1 1 1 1 1 1 1 1 1 0 1 1 1 1 1\n",
            " 1 1 1 1 1 1 1 1 1 1 1 1 1 1 1 1 1 1 1 1 1 1 1 1 1 1 1 1 1 1 1 1 1 1 1 1 1\n",
            " 1 1 1 1 1 1 1 1 1 1 0 1 1 0 0 1 0 1 1 0 1 1 1 1 0 1 1 0 0 1 1 1 0 1 1 1 1\n",
            " 1 1 1 1 1 1 1 1 1 0 1 0 1 1 1 0 1 1 1 0 1 0 1 0 1 0 1 1 1 1 0 1 0 1 1 1 1\n",
            " 1 1 1 1 1 0 1 0 1 1 1 1 1 1 1 0 1 1 1 1 1 1 0 1 1 1 0 1 1 0 1 0 1 1 0 1 1\n",
            " 1 1 0 1 1 1 0 0 1 0 1 1 1 1 1 1 1 1 1 1 1 0 1 1 1 1 0 0 1 1 1 0 1 0 1 1 0\n",
            " 1 0 1 1 1 0 0 0 1 1 1 0 1 1 1 1 1 1 1 1 1 1 1 1 1 1 1 1 0 1 1 1 0 1 1 0 0\n",
            " 1 1 1 1 1 0 1 1 0 1 1 1 0 0 1 1 1 1 1 0 1 0 1 1 0 1 0 0 0 1 1 1 1 0 0 0 1\n",
            " 0 0 1 1 0 0 1 0 0 0 0 0 0 0 1 0 1 0 0 1 1 1 1 1 0 0 1 0 0 0 1 0 1 1 1 1 1\n",
            " 0 0 0 0 0 1 0 1 1 0 1 0 0 0 1 0 1 0 1 1 0 0 0 0 1 0 0 0 0 1 1 1 0 0 0 0 0\n",
            " 0 1 0 1 1 1 1 1 0 1 0 0 0 1 0 1 1 1 0 1 1 0 1 0 1 0 0 0 1 1 0 1 1 1 1 0 0\n",
            " 0 1 0 0 1 1 1 0 1 0 0 0 1 0 0 1 0 1 0 1 1 1 1 1 0 0 0 0 0 0 0 1 0 0 1 1 1\n",
            " 0 1 0 0 0 0 0 1 0 1 1 0 0 1 1 1 1 0 0 1 1 0 0 0 1 0 0 1 0 1 0 1 0 0 0 0 0\n",
            " 1 0 1 1 1 1 0 0 0 1 0 1 0 0 1 0 0 0 0 0 0 1 1 0 1 0 0 1 1 0 0 1 1 0 1 0 1\n",
            " 0 1 0 0 1 0 0 1 0 1 1 0 1 1 1 0 1 0 0 0 0 1 1 0 0 1 1 0 1 0 0 0 0 1 0 0 1\n",
            " 1 1 0 0 0 1 0 1 0 1 0 1 1 1 0 0 0 1 0 1 1 1 0 1 1 1 1 1 1 0]\n"
          ]
        }
      ]
    },
    {
      "cell_type": "code",
      "source": [
        "def sigmoid(z):\n",
        "    # Calcula la sigmoide de una entrada z\n",
        "    # convierte la intrada a un arreglo numpy\n",
        "    z = np.array(z)\n",
        "\n",
        "    g = np.zeros(z.shape)\n",
        "\n",
        "    g = 1 / (1 + np.exp(-z))\n",
        "\n",
        "    return g"
      ],
      "metadata": {
        "id": "aCiB-i6bM6vA"
      },
      "execution_count": 423,
      "outputs": []
    },
    {
      "cell_type": "code",
      "source": [
        "# Prueba la implementacion de la funcion sigmoid\n",
        "z = [0, 0.5, 1]\n",
        "g = sigmoid(z)\n",
        "\n",
        "print('g(', z, ') = ', g)"
      ],
      "metadata": {
        "colab": {
          "base_uri": "https://localhost:8080/"
        },
        "id": "ybAsAvp6NMTV",
        "outputId": "9b472266-b9e5-4611-fcad-e19338e4277a"
      },
      "execution_count": 424,
      "outputs": [
        {
          "output_type": "stream",
          "name": "stdout",
          "text": [
            "g( [0, 0.5, 1] ) =  [0.5        0.62245933 0.73105858]\n"
          ]
        }
      ]
    },
    {
      "cell_type": "code",
      "source": [
        "# Configurar la matriz adecuadamente, y agregar una columna de unos que corresponde al termino de intercepción.\n",
        "m, n = X.shape\n",
        "# Agraga el termino de intercepción a A\n",
        "X = np.concatenate([np.ones((m, 1)), X], axis=1)"
      ],
      "metadata": {
        "id": "pqLGXYxWNcT9"
      },
      "execution_count": 425,
      "outputs": []
    },
    {
      "cell_type": "code",
      "source": [
        "def calcularCosto(theta, X, y):\n",
        "    # Inicializar algunos valores utiles\n",
        "    m = y.size  # numero de ejemplos de entrenamiento\n",
        "\n",
        "    J = 0\n",
        "    h = sigmoid(X.dot(theta.T))\n",
        "    J = (1 / m) * np.sum(-y.dot(np.log(h)) - (1 - y).dot(np.log(1 - h)))\n",
        "\n",
        "    return J"
      ],
      "metadata": {
        "id": "hHS6doDaNnHR"
      },
      "execution_count": 426,
      "outputs": []
    },
    {
      "cell_type": "code",
      "source": [
        "def descensoGradiente(theta, X, y, alpha, num_iters):\n",
        "    # Inicializa algunos valores\n",
        "    m = y.shape[0] # numero de ejemplos de entrenamiento\n",
        "\n",
        "    # realiza una copia de theta, el cual será acutalizada por el descenso por el gradiente\n",
        "    theta = theta.copy()\n",
        "    J_history = []\n",
        "\n",
        "    for i in range(num_iters):\n",
        "        h = sigmoid(X.dot(theta.T))\n",
        "        theta = theta - (alpha / m) * (h - y).dot(X)\n",
        "\n",
        "        J_history.append(calcularCosto(theta, X, y))\n",
        "    return theta, J_history"
      ],
      "metadata": {
        "id": "GjcNSItHNopV"
      },
      "execution_count": 427,
      "outputs": []
    },
    {
      "cell_type": "code",
      "source": [
        "# Inicializar valores\n",
        "alpha = 0.00009\n",
        "num_iters = 500\n",
        "theta = np.zeros(n + 1)\n",
        "\n",
        "# Ejecutar el descenso por el gradiente\n",
        "theta, J_history = descensoGradiente(theta, X, y, alpha, num_iters)\n",
        "\n",
        "# Graficar la convergencia del costo\n",
        "plt.plot(np.arange(len(J_history)), J_history, lw=2)\n",
        "plt.xlabel('Número de iteraciones')\n",
        "plt.ylabel('Costo J')\n",
        "\n",
        "# Mostrar los resultados del descenso por el gradiente\n",
        "print('Theta calculado por el descenso por gradiente:', theta)\n",
        "\n",
        "\n",
        "# Verificar si una persona tiene enfermedad cardíaca según sus valores\n",
        "X_array = np.array([1, 40, 140, 289, 172, 0])  # 1 (intercepto) + valores de Edad, Presión, Colesterol, MaxHR, Oldpeak\n",
        "prueba = sigmoid(np.dot(X_array, theta))   #\n",
        "\n",
        "print('La persona tiene enfermedad cardiaca (usando el descenso por el gradiente): {:.0f}'.format(prueba))"
      ],
      "metadata": {
        "colab": {
          "base_uri": "https://localhost:8080/",
          "height": 484
        },
        "id": "90-JykWjNqpf",
        "outputId": "7390a865-2560-4fe5-c4d7-96c9b412450c"
      },
      "execution_count": 428,
      "outputs": [
        {
          "output_type": "stream",
          "name": "stdout",
          "text": [
            "Theta calculado por el descenso por gradiente: [ 0.0003107   0.03106479  0.01899023 -0.00377247 -0.02324082  0.00808687]\n",
            "La persona tiene enfermedad cardiaca (usando el descenso por el gradiente): 0\n"
          ]
        },
        {
          "output_type": "display_data",
          "data": {
            "text/plain": [
              "<Figure size 640x480 with 1 Axes>"
            ],
            "image/png": "[encoded data removed]"
          },
          "metadata": {}
        }
      ]
    },
    {
      "cell_type": "code",
      "source": [
        "X_array = [1, 80, 100, 215, 108, 1.5]\n",
        "y_predicted = sigmoid(np.dot(X_array, theta))\n",
        "print('La persona tiene enfermedad cardiaca -> {:.0f}'.format(y_predicted))"
      ],
      "metadata": {
        "colab": {
          "base_uri": "https://localhost:8080/"
        },
        "id": "fZX33qt9sMC_",
        "outputId": "974b68ce-85f3-4a52-9531-6207e950dfc6"
      },
      "execution_count": 429,
      "outputs": [
        {
          "output_type": "stream",
          "name": "stdout",
          "text": [
            "La persona tiene enfermedad cardiaca -> 1\n"
          ]
        }
      ]
    },
    {
      "cell_type": "code",
      "source": [
        "def costFunction(theta, X, y):\n",
        "    # Inicializar algunos valores utiles\n",
        "    m = y.size  # numero de ejemplos de entrenamiento\n",
        "\n",
        "    J = 0\n",
        "    grad = np.zeros(theta.shape)\n",
        "\n",
        "    h = sigmoid(X.dot(theta.T))\n",
        "\n",
        "    J = (1 / m) * np.sum(-y.dot(np.log(h)) - (1 - y).dot(np.log(1 - h)))\n",
        "    grad = (1 / m) * (h - y).dot(X)\n",
        "\n",
        "    return J, grad"
      ],
      "metadata": {
        "id": "-puJgn3shyfx"
      },
      "execution_count": 430,
      "outputs": []
    },
    {
      "cell_type": "code",
      "source": [
        "# Inicialización de parámetros de ajuste\n",
        "initial_theta = np.zeros(n + 1)  # Se inicializan los parámetros (con el +1 para el término de intercepto)\n",
        "print(initial_theta)\n",
        "\n",
        "# Calcular el costo y gradiente en theta inicial\n",
        "cost, grad = costFunction(initial_theta, X, y)\n",
        "\n",
        "print('Costo en theta inicial (ceros): {:.3f}'.format(cost))\n",
        "print('Costo esperado (aproximado): 0.693\\n')\n",
        "print(grad)\n",
        "print('Gradiente en theta inicial (ceros):')\n",
        "print('\\t[{:.4f}, {:.4f}, {:.4f}, {:.4f}, {:.4f}, {:.4f}]'.format(*grad))"
      ],
      "metadata": {
        "colab": {
          "base_uri": "https://localhost:8080/"
        },
        "id": "K_MghwDJh6ak",
        "outputId": "a5dfdfd4-9fc4-4f7e-b54f-c610d958f2fb"
      },
      "execution_count": 431,
      "outputs": [
        {
          "output_type": "stream",
          "name": "stdout",
          "text": [
            "[0. 0. 0. 0. 0. 0.]\n",
            "Costo en theta inicial (ceros): 0.693\n",
            "Costo esperado (aproximado): 0.693\n",
            "\n",
            "[-0.05337691 -4.17810458 -8.05664488  2.03812636 -2.2369281  -0.26143791]\n",
            "Gradiente en theta inicial (ceros):\n",
            "\t[-0.0534, -4.1781, -8.0566, 2.0381, -2.2369, -0.2614]\n"
          ]
        }
      ]
    },
    {
      "cell_type": "code",
      "source": [
        "# Establecer las opciones para optimize.minimize\n",
        "options= {'maxiter': 1000}\n",
        "\n",
        "# revisar la documentacion de scipy's optimize.minimize para mayor descripcion de los parametros\n",
        "# La funcion devuekve un objeto `OptimizeResult`\n",
        "# Se utiliza el algoritmo de Newton truncado para la optimización.\n",
        "res = optimize.minimize(costFunction,\n",
        "                        initial_theta,\n",
        "                        (X, y),\n",
        "                        jac=True,\n",
        "                        method='TNC',\n",
        "                        options=options)\n",
        "\n",
        "# la propiedad fun del objeto devuelto por `OptimizeResult`\n",
        "# contiene el valor del costFunction de un theta optimizado\n",
        "cost = res.fun\n",
        "\n",
        "# Theta optimizada esta en la propiedad x\n",
        "theta = res.x\n",
        "\n",
        "# Imprimir theta en la pantalla\n",
        "print('Costo con un valor de theta encontrado por optimize.minimize: {:.3f}'.format(cost))\n",
        "\n",
        "print('theta:')\n",
        "print('\\t[{:.3f}, {:.3f}, {:.3f}, {:.3f}, {:.3f}, {:.3f}]'.format(*theta))"
      ],
      "metadata": {
        "colab": {
          "base_uri": "https://localhost:8080/"
        },
        "id": "B5-3S0BMg0fA",
        "outputId": "bf4efc12-0cdd-48eb-95a8-697514f29c5c"
      },
      "execution_count": 432,
      "outputs": [
        {
          "output_type": "stream",
          "name": "stdout",
          "text": [
            "Costo con un valor de theta encontrado por optimize.minimize: 0.504\n",
            "theta:\n",
            "\t[2.777, 0.018, 0.004, -0.005, -0.028, 0.955]\n"
          ]
        },
        {
          "output_type": "stream",
          "name": "stderr",
          "text": [
            "<ipython-input-432-5093486f81b9>:7: OptimizeWarning: Unknown solver options: maxiter\n",
            "  res = optimize.minimize(costFunction,\n"
          ]
        }
      ]
    },
    {
      "cell_type": "code",
      "source": [
        "def predict(theta, X):\n",
        "    \"\"\"\n",
        "    Predecir si la etiqueta es 0 o 1 mediante regresión logística aprendida.\n",
        "    Calcula las predicciones para X usando un umbral en 0.5 (es decir, si sigmoide (theta.T * x)> = 0.5, predice 1)\n",
        "\n",
        "    Parametros\n",
        "    ----------\n",
        "    theta : array_like\n",
        "        Parametros para regresion logistica. Un vecto de la forma (n+1, ).\n",
        "\n",
        "    X : array_like\n",
        "        Datos utilizados para el calculo de las predicciones.\n",
        "        La fila es el numero de los puntos para calcular las predicciones,\n",
        "        y las columnas con el numero de caracteristicas.\n",
        "\n",
        "    Devuelve\n",
        "    -------\n",
        "    p : array_like\n",
        "        Predicciones y 0 o 1 para cada fila en X.\n",
        "    \"\"\"\n",
        "    m = X.shape[0] # Numero de ejemplo de entrenamiento\n",
        "\n",
        "    p = np.zeros(m)\n",
        "\n",
        "    p = np.round(sigmoid(X.dot(theta.T)))\n",
        "    return p"
      ],
      "metadata": {
        "id": "8BcFR7I7hLRI"
      },
      "execution_count": 433,
      "outputs": []
    },
    {
      "cell_type": "code",
      "source": [
        "X_array = np.array([1, 45, 140, 289, 172, 0])  # 1 (intercepto) + valores de Edad, Presión, Colesterol, MaxHR, Oldpeak\n",
        "probabilidad_enfermedad = sigmoid(np.dot(X_array, theta))\n",
        "print(f'Para un paciente con Edad = 45, Presión = 140, Colesterol = 289, Frecuencia Cardíaca Máxima = 172, Oldpeak = 0, '\n",
        "      f'se predice una probabilidad de enfermedad cardíaca de: {probabilidad_enfermedad:.3f}')\n",
        "# Calcular la precisión en el conjunto de entrenamiento para ver cuán bien se ha entrenado el modelo\n",
        "predicciones = predict(theta, X)\n",
        "precisión = np.mean(predicciones == y) * 100\n",
        "print(f'Precisión de entrenamiento: {precisión:.2f} %')\n"
      ],
      "metadata": {
        "colab": {
          "base_uri": "https://localhost:8080/"
        },
        "id": "EsXeWTpsiwBY",
        "outputId": "8157cd4c-ca1d-4730-eedc-a98a2ad1f1bc"
      },
      "execution_count": 434,
      "outputs": [
        {
          "output_type": "stream",
          "name": "stdout",
          "text": [
            "Para un paciente con Edad = 45, Presión = 140, Colesterol = 289, Frecuencia Cardíaca Máxima = 172, Oldpeak = 0, se predice una probabilidad de enfermedad cardíaca de: 0.117\n",
            "Precisión de entrenamiento: 75.93 %\n"
          ]
        }
      ]
    },
    {
      "cell_type": "code",
      "source": [
        "X_array = np.array([1, 80, 100, 215, 108, 1.5])  # 1 (intercepto) + valores de Edad, Presión, Colesterol, MaxHR, Oldpeak\n",
        "probabilidad_enfermedad = sigmoid(np.dot(X_array, theta))\n",
        "\n",
        "print(f'Para un paciente con Edad = 80, Presión = 100, Colesterol = 215, Frecuencia Cardíaca Máxima = 108, Oldpeak = 1.5, '\n",
        "      f'se predice una probabilidad de enfermedad cardíaca de: {probabilidad_enfermedad:.3f}')\n",
        "\n",
        "# Calcular la precisión en el conjunto de entrenamiento para ver cuán bien se ha entrenado el modelo\n",
        "predicciones = predict(theta, X)\n",
        "precisión = np.mean(predicciones == y) * 100\n",
        "print(f'Precisión de entrenamiento: {precisión:.2f} %')\n",
        "\n"
      ],
      "metadata": {
        "colab": {
          "base_uri": "https://localhost:8080/"
        },
        "id": "7W3RWDmbpa9V",
        "outputId": "2b89f7e0-5359-4c07-c21c-1e9699ea5f70"
      },
      "execution_count": 435,
      "outputs": [
        {
          "output_type": "stream",
          "name": "stdout",
          "text": [
            "Para un paciente con Edad = 80, Presión = 100, Colesterol = 215, Frecuencia Cardíaca Máxima = 108, Oldpeak = 1.5, se predice una probabilidad de enfermedad cardíaca de: 0.883\n",
            "Precisión de entrenamiento: 75.93 %\n"
          ]
        }
      ]
    }
  ]
}